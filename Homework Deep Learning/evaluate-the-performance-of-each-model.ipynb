{
 "cells": [
  {
   "cell_type": "markdown",
   "metadata": {},
   "source": [
    "# Evaluate the performance of each model\n",
    "\n",
    "Finally, use the testing data to evaluate each model and compare the performance.\n",
    "Use the above to answer the following:\n",
    "\n",
    "### Which model has a lower loss?\n",
    "A: The fng has a loss: 0.1911, and closing has a loss: 0.0468. The lstm closing price model has a lower loss.\n",
    "### Which model tracks the actual values better over time?\n",
    "A: LSTM closing\n",
    "### Which window size works best for the model?\n",
    "A: I found that a window size of 10 seemed to work best, and yeild the best results."
   ]
  },
  {
   "cell_type": "code",
   "execution_count": null,
   "metadata": {},
   "outputs": [],
   "source": []
  }
 ],
 "metadata": {
  "kernelspec": {
   "display_name": "Python [conda env:root] *",
   "language": "python",
   "name": "conda-root-py"
  },
  "language_info": {
   "codemirror_mode": {
    "name": "ipython",
    "version": 3
   },
   "file_extension": ".py",
   "mimetype": "text/x-python",
   "name": "python",
   "nbconvert_exporter": "python",
   "pygments_lexer": "ipython3",
   "version": "3.7.6"
  }
 },
 "nbformat": 4,
 "nbformat_minor": 4
}
